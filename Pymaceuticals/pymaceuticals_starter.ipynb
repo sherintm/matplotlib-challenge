{
 "cells": [
  {
   "cell_type": "markdown",
   "metadata": {},
   "source": [
    "## Observations and Insights "
   ]
  },
  {
   "cell_type": "markdown",
   "metadata": {},
   "source": [
    "<ul>\n",
    "    <li>Treatment with Capomulin is effective as the tumor volume decreases with timepoint.</li>\n",
    "    <li>Among the top 4 treatment regimens, Ramicane has the lowest median for final tumor volume and the most effective drug. Capomulin which is Pymaceuticals' drug of interest comes next to Ramicane and has a slightly higher median for final tumor volume. </li>\n",
    "    <li>Pearson’s correlation coefficient between mouse weight and average tumor volume is 0.84. Any value greater than 0.7 indicates a strong positive correlation between the 2 factors. Based on this we can conclude that the average tumor volume increases with weight.</li>"
   ]
  },
  {
   "cell_type": "code",
   "execution_count": 1,
   "metadata": {
    "scrolled": true
   },
   "outputs": [
    {
     "data": {
      "text/html": [
       "<div>\n",
       "<style scoped>\n",
       "    .dataframe tbody tr th:only-of-type {\n",
       "        vertical-align: middle;\n",
       "    }\n",
       "\n",
       "    .dataframe tbody tr th {\n",
       "        vertical-align: top;\n",
       "    }\n",
       "\n",
       "    .dataframe thead th {\n",
       "        text-align: right;\n",
       "    }\n",
       "</style>\n",
       "<table border=\"1\" class=\"dataframe\">\n",
       "  <thead>\n",
       "    <tr style=\"text-align: right;\">\n",
       "      <th></th>\n",
       "      <th>Mouse ID</th>\n",
       "      <th>Drug Regimen</th>\n",
       "      <th>Sex</th>\n",
       "      <th>Age_months</th>\n",
       "      <th>Weight (g)</th>\n",
       "      <th>Timepoint</th>\n",
       "      <th>Tumor Volume (mm3)</th>\n",
       "      <th>Metastatic Sites</th>\n",
       "    </tr>\n",
       "  </thead>\n",
       "  <tbody>\n",
       "    <tr>\n",
       "      <th>0</th>\n",
       "      <td>k403</td>\n",
       "      <td>Ramicane</td>\n",
       "      <td>Male</td>\n",
       "      <td>21</td>\n",
       "      <td>16</td>\n",
       "      <td>0</td>\n",
       "      <td>45.000000</td>\n",
       "      <td>0</td>\n",
       "    </tr>\n",
       "    <tr>\n",
       "      <th>1</th>\n",
       "      <td>k403</td>\n",
       "      <td>Ramicane</td>\n",
       "      <td>Male</td>\n",
       "      <td>21</td>\n",
       "      <td>16</td>\n",
       "      <td>5</td>\n",
       "      <td>38.825898</td>\n",
       "      <td>0</td>\n",
       "    </tr>\n",
       "    <tr>\n",
       "      <th>2</th>\n",
       "      <td>k403</td>\n",
       "      <td>Ramicane</td>\n",
       "      <td>Male</td>\n",
       "      <td>21</td>\n",
       "      <td>16</td>\n",
       "      <td>10</td>\n",
       "      <td>35.014271</td>\n",
       "      <td>1</td>\n",
       "    </tr>\n",
       "    <tr>\n",
       "      <th>3</th>\n",
       "      <td>k403</td>\n",
       "      <td>Ramicane</td>\n",
       "      <td>Male</td>\n",
       "      <td>21</td>\n",
       "      <td>16</td>\n",
       "      <td>15</td>\n",
       "      <td>34.223992</td>\n",
       "      <td>1</td>\n",
       "    </tr>\n",
       "    <tr>\n",
       "      <th>4</th>\n",
       "      <td>k403</td>\n",
       "      <td>Ramicane</td>\n",
       "      <td>Male</td>\n",
       "      <td>21</td>\n",
       "      <td>16</td>\n",
       "      <td>20</td>\n",
       "      <td>32.997729</td>\n",
       "      <td>1</td>\n",
       "    </tr>\n",
       "  </tbody>\n",
       "</table>\n",
       "</div>"
      ],
      "text/plain": [
       "  Mouse ID Drug Regimen   Sex  Age_months  Weight (g)  Timepoint  \\\n",
       "0     k403     Ramicane  Male          21          16          0   \n",
       "1     k403     Ramicane  Male          21          16          5   \n",
       "2     k403     Ramicane  Male          21          16         10   \n",
       "3     k403     Ramicane  Male          21          16         15   \n",
       "4     k403     Ramicane  Male          21          16         20   \n",
       "\n",
       "   Tumor Volume (mm3)  Metastatic Sites  \n",
       "0           45.000000                 0  \n",
       "1           38.825898                 0  \n",
       "2           35.014271                 1  \n",
       "3           34.223992                 1  \n",
       "4           32.997729                 1  "
      ]
     },
     "execution_count": 1,
     "metadata": {},
     "output_type": "execute_result"
    }
   ],
   "source": [
    "# Dependencies and Setup\n",
    "%matplotlib inline\n",
    "import matplotlib.pyplot as plt\n",
    "import pandas as pd\n",
    "import scipy.stats as st\n",
    "import numpy as np\n",
    "import os\n",
    "\n",
    "# Study data files\n",
    "mouse_metadata_path = os.path.join(\"data\", \"Mouse_metadata.csv\")\n",
    "study_results_path = os.path.join(\"data\", \"Study_results.csv\")\n",
    "\n",
    "# Read the mouse data and the study results\n",
    "mouse_metadata = pd.read_csv(mouse_metadata_path)\n",
    "study_results = pd.read_csv(study_results_path)\n",
    "\n",
    "# Combine the data into a single dataset\n",
    "merged_data = pd.merge(mouse_metadata,study_results, on=\"Mouse ID\")\n",
    "\n",
    "# Display the data table for preview\n",
    "merged_data.head()"
   ]
  },
  {
   "cell_type": "code",
   "execution_count": 2,
   "metadata": {},
   "outputs": [
    {
     "data": {
      "text/plain": [
       "249"
      ]
     },
     "execution_count": 2,
     "metadata": {},
     "output_type": "execute_result"
    }
   ],
   "source": [
    "# Checking the number of mice.\n",
    "len(merged_data[\"Mouse ID\"].unique())"
   ]
  },
  {
   "cell_type": "code",
   "execution_count": 3,
   "metadata": {},
   "outputs": [
    {
     "name": "stdout",
     "output_type": "stream",
     "text": [
      "['Duplicate Mouse ID:g989']\n"
     ]
    }
   ],
   "source": [
    "# Getting the duplicate mice by ID number that shows up for Mouse ID and Timepoint. \n",
    "dup_mouse_data = merged_data.loc[merged_data.duplicated([\"Mouse ID\", \"Timepoint\"], keep = False)]\n",
    "mouse_id = dup_mouse_data[\"Mouse ID\"].unique()\n",
    "print(\"Duplicate Mouse ID:\" + mouse_id)"
   ]
  },
  {
   "cell_type": "code",
   "execution_count": 4,
   "metadata": {},
   "outputs": [
    {
     "data": {
      "text/html": [
       "<div>\n",
       "<style scoped>\n",
       "    .dataframe tbody tr th:only-of-type {\n",
       "        vertical-align: middle;\n",
       "    }\n",
       "\n",
       "    .dataframe tbody tr th {\n",
       "        vertical-align: top;\n",
       "    }\n",
       "\n",
       "    .dataframe thead th {\n",
       "        text-align: right;\n",
       "    }\n",
       "</style>\n",
       "<table border=\"1\" class=\"dataframe\">\n",
       "  <thead>\n",
       "    <tr style=\"text-align: right;\">\n",
       "      <th></th>\n",
       "      <th>Mouse ID</th>\n",
       "      <th>Drug Regimen</th>\n",
       "      <th>Sex</th>\n",
       "      <th>Age_months</th>\n",
       "      <th>Weight (g)</th>\n",
       "      <th>Timepoint</th>\n",
       "      <th>Tumor Volume (mm3)</th>\n",
       "      <th>Metastatic Sites</th>\n",
       "    </tr>\n",
       "  </thead>\n",
       "  <tbody>\n",
       "    <tr>\n",
       "      <th>908</th>\n",
       "      <td>g989</td>\n",
       "      <td>Propriva</td>\n",
       "      <td>Female</td>\n",
       "      <td>21</td>\n",
       "      <td>26</td>\n",
       "      <td>0</td>\n",
       "      <td>45.000000</td>\n",
       "      <td>0</td>\n",
       "    </tr>\n",
       "    <tr>\n",
       "      <th>909</th>\n",
       "      <td>g989</td>\n",
       "      <td>Propriva</td>\n",
       "      <td>Female</td>\n",
       "      <td>21</td>\n",
       "      <td>26</td>\n",
       "      <td>0</td>\n",
       "      <td>45.000000</td>\n",
       "      <td>0</td>\n",
       "    </tr>\n",
       "    <tr>\n",
       "      <th>910</th>\n",
       "      <td>g989</td>\n",
       "      <td>Propriva</td>\n",
       "      <td>Female</td>\n",
       "      <td>21</td>\n",
       "      <td>26</td>\n",
       "      <td>5</td>\n",
       "      <td>48.786801</td>\n",
       "      <td>0</td>\n",
       "    </tr>\n",
       "    <tr>\n",
       "      <th>911</th>\n",
       "      <td>g989</td>\n",
       "      <td>Propriva</td>\n",
       "      <td>Female</td>\n",
       "      <td>21</td>\n",
       "      <td>26</td>\n",
       "      <td>5</td>\n",
       "      <td>47.570392</td>\n",
       "      <td>0</td>\n",
       "    </tr>\n",
       "    <tr>\n",
       "      <th>912</th>\n",
       "      <td>g989</td>\n",
       "      <td>Propriva</td>\n",
       "      <td>Female</td>\n",
       "      <td>21</td>\n",
       "      <td>26</td>\n",
       "      <td>10</td>\n",
       "      <td>51.745156</td>\n",
       "      <td>0</td>\n",
       "    </tr>\n",
       "    <tr>\n",
       "      <th>913</th>\n",
       "      <td>g989</td>\n",
       "      <td>Propriva</td>\n",
       "      <td>Female</td>\n",
       "      <td>21</td>\n",
       "      <td>26</td>\n",
       "      <td>10</td>\n",
       "      <td>49.880528</td>\n",
       "      <td>0</td>\n",
       "    </tr>\n",
       "    <tr>\n",
       "      <th>914</th>\n",
       "      <td>g989</td>\n",
       "      <td>Propriva</td>\n",
       "      <td>Female</td>\n",
       "      <td>21</td>\n",
       "      <td>26</td>\n",
       "      <td>15</td>\n",
       "      <td>51.325852</td>\n",
       "      <td>1</td>\n",
       "    </tr>\n",
       "    <tr>\n",
       "      <th>915</th>\n",
       "      <td>g989</td>\n",
       "      <td>Propriva</td>\n",
       "      <td>Female</td>\n",
       "      <td>21</td>\n",
       "      <td>26</td>\n",
       "      <td>15</td>\n",
       "      <td>53.442020</td>\n",
       "      <td>0</td>\n",
       "    </tr>\n",
       "    <tr>\n",
       "      <th>916</th>\n",
       "      <td>g989</td>\n",
       "      <td>Propriva</td>\n",
       "      <td>Female</td>\n",
       "      <td>21</td>\n",
       "      <td>26</td>\n",
       "      <td>20</td>\n",
       "      <td>55.326122</td>\n",
       "      <td>1</td>\n",
       "    </tr>\n",
       "    <tr>\n",
       "      <th>917</th>\n",
       "      <td>g989</td>\n",
       "      <td>Propriva</td>\n",
       "      <td>Female</td>\n",
       "      <td>21</td>\n",
       "      <td>26</td>\n",
       "      <td>20</td>\n",
       "      <td>54.657650</td>\n",
       "      <td>1</td>\n",
       "    </tr>\n",
       "  </tbody>\n",
       "</table>\n",
       "</div>"
      ],
      "text/plain": [
       "    Mouse ID Drug Regimen     Sex  Age_months  Weight (g)  Timepoint  \\\n",
       "908     g989     Propriva  Female          21          26          0   \n",
       "909     g989     Propriva  Female          21          26          0   \n",
       "910     g989     Propriva  Female          21          26          5   \n",
       "911     g989     Propriva  Female          21          26          5   \n",
       "912     g989     Propriva  Female          21          26         10   \n",
       "913     g989     Propriva  Female          21          26         10   \n",
       "914     g989     Propriva  Female          21          26         15   \n",
       "915     g989     Propriva  Female          21          26         15   \n",
       "916     g989     Propriva  Female          21          26         20   \n",
       "917     g989     Propriva  Female          21          26         20   \n",
       "\n",
       "     Tumor Volume (mm3)  Metastatic Sites  \n",
       "908           45.000000                 0  \n",
       "909           45.000000                 0  \n",
       "910           48.786801                 0  \n",
       "911           47.570392                 0  \n",
       "912           51.745156                 0  \n",
       "913           49.880528                 0  \n",
       "914           51.325852                 1  \n",
       "915           53.442020                 0  \n",
       "916           55.326122                 1  \n",
       "917           54.657650                 1  "
      ]
     },
     "execution_count": 4,
     "metadata": {},
     "output_type": "execute_result"
    }
   ],
   "source": [
    "# Optional: Get all the data for the duplicate mouse ID. \n",
    "dup_mouse_data"
   ]
  },
  {
   "cell_type": "code",
   "execution_count": 5,
   "metadata": {},
   "outputs": [],
   "source": [
    "# Create a clean DataFrame by dropping the duplicate mouse by its ID.\n",
    "clean_data = merged_data.drop(merged_data.loc[merged_data[\"Mouse ID\"] == \"g989\"].index)"
   ]
  },
  {
   "cell_type": "code",
   "execution_count": 6,
   "metadata": {},
   "outputs": [
    {
     "data": {
      "text/plain": [
       "248"
      ]
     },
     "execution_count": 6,
     "metadata": {},
     "output_type": "execute_result"
    }
   ],
   "source": [
    "# Checking the number of mice in the clean DataFrame.\n",
    "len(clean_data[\"Mouse ID\"].unique())"
   ]
  },
  {
   "cell_type": "markdown",
   "metadata": {},
   "source": [
    "## Summary Statistics"
   ]
  },
  {
   "cell_type": "code",
   "execution_count": 26,
   "metadata": {},
   "outputs": [
    {
     "data": {
      "text/html": [
       "<div>\n",
       "<style scoped>\n",
       "    .dataframe tbody tr th:only-of-type {\n",
       "        vertical-align: middle;\n",
       "    }\n",
       "\n",
       "    .dataframe tbody tr th {\n",
       "        vertical-align: top;\n",
       "    }\n",
       "\n",
       "    .dataframe thead th {\n",
       "        text-align: right;\n",
       "    }\n",
       "</style>\n",
       "<table border=\"1\" class=\"dataframe\">\n",
       "  <thead>\n",
       "    <tr style=\"text-align: right;\">\n",
       "      <th></th>\n",
       "      <th>Mean_Tumor_Volume</th>\n",
       "      <th>Median_Tumor_Volume</th>\n",
       "      <th>Variance_Tumor_Volume</th>\n",
       "      <th>STD_Tumor_Volume</th>\n",
       "      <th>SEM_Tumor_Volume</th>\n",
       "    </tr>\n",
       "    <tr>\n",
       "      <th>Drug Regimen</th>\n",
       "      <th></th>\n",
       "      <th></th>\n",
       "      <th></th>\n",
       "      <th></th>\n",
       "      <th></th>\n",
       "    </tr>\n",
       "  </thead>\n",
       "  <tbody>\n",
       "    <tr>\n",
       "      <th>Capomulin</th>\n",
       "      <td>40.68</td>\n",
       "      <td>41.56</td>\n",
       "      <td>24.95</td>\n",
       "      <td>4.99</td>\n",
       "      <td>0.33</td>\n",
       "    </tr>\n",
       "    <tr>\n",
       "      <th>Ceftamin</th>\n",
       "      <td>52.59</td>\n",
       "      <td>51.78</td>\n",
       "      <td>39.29</td>\n",
       "      <td>6.27</td>\n",
       "      <td>0.47</td>\n",
       "    </tr>\n",
       "    <tr>\n",
       "      <th>Infubinol</th>\n",
       "      <td>52.88</td>\n",
       "      <td>51.82</td>\n",
       "      <td>43.13</td>\n",
       "      <td>6.57</td>\n",
       "      <td>0.49</td>\n",
       "    </tr>\n",
       "    <tr>\n",
       "      <th>Ketapril</th>\n",
       "      <td>55.24</td>\n",
       "      <td>53.70</td>\n",
       "      <td>68.55</td>\n",
       "      <td>8.28</td>\n",
       "      <td>0.60</td>\n",
       "    </tr>\n",
       "    <tr>\n",
       "      <th>Naftisol</th>\n",
       "      <td>54.33</td>\n",
       "      <td>52.51</td>\n",
       "      <td>66.17</td>\n",
       "      <td>8.13</td>\n",
       "      <td>0.60</td>\n",
       "    </tr>\n",
       "    <tr>\n",
       "      <th>Placebo</th>\n",
       "      <td>54.03</td>\n",
       "      <td>52.29</td>\n",
       "      <td>61.17</td>\n",
       "      <td>7.82</td>\n",
       "      <td>0.58</td>\n",
       "    </tr>\n",
       "    <tr>\n",
       "      <th>Propriva</th>\n",
       "      <td>52.32</td>\n",
       "      <td>50.45</td>\n",
       "      <td>43.85</td>\n",
       "      <td>6.62</td>\n",
       "      <td>0.54</td>\n",
       "    </tr>\n",
       "    <tr>\n",
       "      <th>Ramicane</th>\n",
       "      <td>40.22</td>\n",
       "      <td>40.67</td>\n",
       "      <td>23.49</td>\n",
       "      <td>4.85</td>\n",
       "      <td>0.32</td>\n",
       "    </tr>\n",
       "    <tr>\n",
       "      <th>Stelasyn</th>\n",
       "      <td>54.23</td>\n",
       "      <td>52.43</td>\n",
       "      <td>59.45</td>\n",
       "      <td>7.71</td>\n",
       "      <td>0.57</td>\n",
       "    </tr>\n",
       "    <tr>\n",
       "      <th>Zoniferol</th>\n",
       "      <td>53.24</td>\n",
       "      <td>51.82</td>\n",
       "      <td>48.53</td>\n",
       "      <td>6.97</td>\n",
       "      <td>0.52</td>\n",
       "    </tr>\n",
       "  </tbody>\n",
       "</table>\n",
       "</div>"
      ],
      "text/plain": [
       "              Mean_Tumor_Volume  Median_Tumor_Volume  Variance_Tumor_Volume  \\\n",
       "Drug Regimen                                                                  \n",
       "Capomulin                 40.68                41.56                  24.95   \n",
       "Ceftamin                  52.59                51.78                  39.29   \n",
       "Infubinol                 52.88                51.82                  43.13   \n",
       "Ketapril                  55.24                53.70                  68.55   \n",
       "Naftisol                  54.33                52.51                  66.17   \n",
       "Placebo                   54.03                52.29                  61.17   \n",
       "Propriva                  52.32                50.45                  43.85   \n",
       "Ramicane                  40.22                40.67                  23.49   \n",
       "Stelasyn                  54.23                52.43                  59.45   \n",
       "Zoniferol                 53.24                51.82                  48.53   \n",
       "\n",
       "              STD_Tumor_Volume  SEM_Tumor_Volume  \n",
       "Drug Regimen                                      \n",
       "Capomulin                 4.99              0.33  \n",
       "Ceftamin                  6.27              0.47  \n",
       "Infubinol                 6.57              0.49  \n",
       "Ketapril                  8.28              0.60  \n",
       "Naftisol                  8.13              0.60  \n",
       "Placebo                   7.82              0.58  \n",
       "Propriva                  6.62              0.54  \n",
       "Ramicane                  4.85              0.32  \n",
       "Stelasyn                  7.71              0.57  \n",
       "Zoniferol                 6.97              0.52  "
      ]
     },
     "execution_count": 26,
     "metadata": {},
     "output_type": "execute_result"
    }
   ],
   "source": [
    "# Generate a summary statistics table of mean, median, variance, standard deviation, and SEM of the tumor volume for each regimen\n",
    "      \n",
    "# Use groupby and summary statistical methods to calculate the following properties of each drug regimen: \n",
    "# mean, median, variance, standard deviation, and SEM of the tumor volume. \n",
    "# Assemble the resulting series into a single summary dataframe.\n",
    "tumor_volume = clean_data.groupby(\"Drug Regimen\")[\"Tumor Volume (mm3)\"]\n",
    "mean = round(tumor_volume.mean(), 2)\n",
    "median = round(tumor_volume.median(), 2)\n",
    "variance = round(tumor_volume.var(), 2)\n",
    "std = round(tumor_volume.std(), 2)\n",
    "SEM = round(tumor_volume.sem(), 2)\n",
    "summary_tmr_vol = pd.DataFrame({\"Mean_Tumor_Volume\": mean,\n",
    "                                \"Median_Tumor_Volume\": median,\n",
    "                                \"Variance_Tumor_Volume\": variance,\n",
    "                                \"STD_Tumor_Volume\": std,\n",
    "                                \"SEM_Tumor_Volume\": SEM})\n",
    "summary_tmr_vol   "
   ]
  },
  {
   "cell_type": "code",
   "execution_count": 28,
   "metadata": {},
   "outputs": [
    {
     "data": {
      "text/html": [
       "<div>\n",
       "<style scoped>\n",
       "    .dataframe tbody tr th:only-of-type {\n",
       "        vertical-align: middle;\n",
       "    }\n",
       "\n",
       "    .dataframe tbody tr th {\n",
       "        vertical-align: top;\n",
       "    }\n",
       "\n",
       "    .dataframe thead th {\n",
       "        text-align: right;\n",
       "    }\n",
       "</style>\n",
       "<table border=\"1\" class=\"dataframe\">\n",
       "  <thead>\n",
       "    <tr style=\"text-align: right;\">\n",
       "      <th></th>\n",
       "      <th>Mean_Tumor_Volume</th>\n",
       "      <th>Median_Tumor_Volume</th>\n",
       "      <th>Variance_Tumor_Volume</th>\n",
       "      <th>STD_Tumor_Volume</th>\n",
       "      <th>SEM_Tumor_Volume</th>\n",
       "    </tr>\n",
       "    <tr>\n",
       "      <th>Drug Regimen</th>\n",
       "      <th></th>\n",
       "      <th></th>\n",
       "      <th></th>\n",
       "      <th></th>\n",
       "      <th></th>\n",
       "    </tr>\n",
       "  </thead>\n",
       "  <tbody>\n",
       "    <tr>\n",
       "      <th>Capomulin</th>\n",
       "      <td>$40.68</td>\n",
       "      <td>$41.56</td>\n",
       "      <td>$24.95</td>\n",
       "      <td>$4.99</td>\n",
       "      <td>$0.33</td>\n",
       "    </tr>\n",
       "    <tr>\n",
       "      <th>Ceftamin</th>\n",
       "      <td>$52.59</td>\n",
       "      <td>$51.78</td>\n",
       "      <td>$39.29</td>\n",
       "      <td>$6.27</td>\n",
       "      <td>$0.47</td>\n",
       "    </tr>\n",
       "    <tr>\n",
       "      <th>Infubinol</th>\n",
       "      <td>$52.88</td>\n",
       "      <td>$51.82</td>\n",
       "      <td>$43.13</td>\n",
       "      <td>$6.57</td>\n",
       "      <td>$0.49</td>\n",
       "    </tr>\n",
       "    <tr>\n",
       "      <th>Ketapril</th>\n",
       "      <td>$55.24</td>\n",
       "      <td>$53.70</td>\n",
       "      <td>$68.55</td>\n",
       "      <td>$8.28</td>\n",
       "      <td>$0.60</td>\n",
       "    </tr>\n",
       "    <tr>\n",
       "      <th>Naftisol</th>\n",
       "      <td>$54.33</td>\n",
       "      <td>$52.51</td>\n",
       "      <td>$66.17</td>\n",
       "      <td>$8.13</td>\n",
       "      <td>$0.60</td>\n",
       "    </tr>\n",
       "    <tr>\n",
       "      <th>Placebo</th>\n",
       "      <td>$54.03</td>\n",
       "      <td>$52.29</td>\n",
       "      <td>$61.17</td>\n",
       "      <td>$7.82</td>\n",
       "      <td>$0.58</td>\n",
       "    </tr>\n",
       "    <tr>\n",
       "      <th>Propriva</th>\n",
       "      <td>$52.32</td>\n",
       "      <td>$50.45</td>\n",
       "      <td>$43.85</td>\n",
       "      <td>$6.62</td>\n",
       "      <td>$0.54</td>\n",
       "    </tr>\n",
       "    <tr>\n",
       "      <th>Ramicane</th>\n",
       "      <td>$40.22</td>\n",
       "      <td>$40.67</td>\n",
       "      <td>$23.49</td>\n",
       "      <td>$4.85</td>\n",
       "      <td>$0.32</td>\n",
       "    </tr>\n",
       "    <tr>\n",
       "      <th>Stelasyn</th>\n",
       "      <td>$54.23</td>\n",
       "      <td>$52.43</td>\n",
       "      <td>$59.45</td>\n",
       "      <td>$7.71</td>\n",
       "      <td>$0.57</td>\n",
       "    </tr>\n",
       "    <tr>\n",
       "      <th>Zoniferol</th>\n",
       "      <td>$53.24</td>\n",
       "      <td>$51.82</td>\n",
       "      <td>$48.53</td>\n",
       "      <td>$6.97</td>\n",
       "      <td>$0.52</td>\n",
       "    </tr>\n",
       "  </tbody>\n",
       "</table>\n",
       "</div>"
      ],
      "text/plain": [
       "             Mean_Tumor_Volume Median_Tumor_Volume Variance_Tumor_Volume  \\\n",
       "Drug Regimen                                                               \n",
       "Capomulin               $40.68              $41.56                $24.95   \n",
       "Ceftamin                $52.59              $51.78                $39.29   \n",
       "Infubinol               $52.88              $51.82                $43.13   \n",
       "Ketapril                $55.24              $53.70                $68.55   \n",
       "Naftisol                $54.33              $52.51                $66.17   \n",
       "Placebo                 $54.03              $52.29                $61.17   \n",
       "Propriva                $52.32              $50.45                $43.85   \n",
       "Ramicane                $40.22              $40.67                $23.49   \n",
       "Stelasyn                $54.23              $52.43                $59.45   \n",
       "Zoniferol               $53.24              $51.82                $48.53   \n",
       "\n",
       "             STD_Tumor_Volume SEM_Tumor_Volume  \n",
       "Drug Regimen                                    \n",
       "Capomulin               $4.99            $0.33  \n",
       "Ceftamin                $6.27            $0.47  \n",
       "Infubinol               $6.57            $0.49  \n",
       "Ketapril                $8.28            $0.60  \n",
       "Naftisol                $8.13            $0.60  \n",
       "Placebo                 $7.82            $0.58  \n",
       "Propriva                $6.62            $0.54  \n",
       "Ramicane                $4.85            $0.32  \n",
       "Stelasyn                $7.71            $0.57  \n",
       "Zoniferol               $6.97            $0.52  "
      ]
     },
     "execution_count": 28,
     "metadata": {},
     "output_type": "execute_result"
    }
   ],
   "source": [
    "# Generate a summary statistics table of mean, median, variance, standard deviation, and SEM of the tumor volume for each regimen\n",
    "\n",
    "# Using the aggregation method, produce the same summary statistics in a single line\n",
    "summary_tmr_vol_agg = clean_data.groupby(\"Drug Regimen\")[\"Tumor Volume (mm3)\"].agg(Mean_Tumor_Volume = 'mean',\n",
    "                                                                                   Median_Tumor_Volume = 'median',\n",
    "                                                                                   Variance_Tumor_Volume = 'var',\n",
    "                                                                                   STD_Tumor_Volume = 'std',\n",
    "                                                                                   SEM_Tumor_Volume = 'sem')\n",
    "\n",
    "# Print format\n",
    "summary_tmr_vol_agg['Mean_Tumor_Volume'] = summary_tmr_vol_agg['Mean_Tumor_Volume'].map('${:,.2f}'.format)\n",
    "summary_tmr_vol_agg['Median_Tumor_Volume'] = summary_tmr_vol_agg['Median_Tumor_Volume'].map('${:,.2f}'.format)\n",
    "summary_tmr_vol_agg['Variance_Tumor_Volume'] = summary_tmr_vol_agg['Variance_Tumor_Volume'].map('${:,.2f}'.format)\n",
    "summary_tmr_vol_agg['STD_Tumor_Volume'] = summary_tmr_vol_agg['STD_Tumor_Volume'].map('${:,.2f}'.format)\n",
    "summary_tmr_vol_agg['SEM_Tumor_Volume'] = summary_tmr_vol_agg['SEM_Tumor_Volume'].map('${:,.2f}'.format)\n",
    "summary_tmr_vol_agg"
   ]
  },
  {
   "cell_type": "markdown",
   "metadata": {},
   "source": [
    "## Bar and Pie Charts"
   ]
  },
  {
   "cell_type": "code",
   "execution_count": 10,
   "metadata": {},
   "outputs": [
    {
     "data": {
      "image/png": "[encoded data removed]",
      "text/plain": [
       "<Figure size 720x216 with 1 Axes>"
      ]
     },
     "metadata": {
      "needs_background": "light"
     },
     "output_type": "display_data"
    }
   ],
   "source": [
    "# Generate a bar plot showing the total number of timepoints for all mice tested for each drug regimen using Pandas.\n",
    "bar_chart = clean_data.groupby(\"Drug Regimen\")[\"Timepoint\"].count().plot(kind=\"bar\", figsize=(10,3), title=\"Total number of timepoints per regimen\")\n",
    "bar_chart.set_ylabel(\"Timepoints\");"
   ]
  },
  {
   "cell_type": "code",
   "execution_count": 13,
   "metadata": {},
   "outputs": [
    {
     "data": {
      "image/png": "[encoded data removed]",
      "text/plain": [
       "<Figure size 720x216 with 1 Axes>"
      ]
     },
     "metadata": {
      "needs_background": "light"
     },
     "output_type": "display_data"
    }
   ],
   "source": [
    "# Generate a bar plot showing the total number of timepoints for all mice tested for each drug regimen using pyplot.\n",
    "x_axis = clean_data.groupby(\"Drug Regimen\")[\"Timepoint\"].count().index.tolist()\n",
    "y_axis = clean_data.groupby(\"Drug Regimen\")[\"Timepoint\"].count().tolist()\n",
    "\n",
    "# Bar plot\n",
    "plt.figure(figsize=(10,3))\n",
    "plt.bar(x_axis,y_axis, width=.5)\n",
    "plt.xticks(rotation='vertical');\n",
    "plt.title(\"Total number of timepoints per regimen\")\n",
    "plt.xlabel(\"Drug Regimen\")\n",
    "plt.ylabel(\"Timepoints\");"
   ]
  },
  {
   "cell_type": "code",
   "execution_count": 17,
   "metadata": {},
   "outputs": [
    {
     "data": {
      "image/png": "[encoded data removed]",
      "text/plain": [
       "<Figure size 432x288 with 1 Axes>"
      ]
     },
     "metadata": {},
     "output_type": "display_data"
    }
   ],
   "source": [
    "# Generate a pie plot showing the distribution of female versus male mice using Pandas\n",
    "gender_data = clean_data[[\"Mouse ID\", \"Sex\"]].drop_duplicates(\"Mouse ID\")\n",
    "explode = (0.1, 0)\n",
    "gender_data[\"Sex\"].value_counts().plot(kind=\"pie\", title=\"Female versus male mice distribution\", \n",
    "                                       explode=explode, autopct=\"%1.1f%%\", shadow=True, startangle=140);"
   ]
  },
  {
   "cell_type": "code",
   "execution_count": 15,
   "metadata": {},
   "outputs": [
    {
     "data": {
      "image/png": "[encoded data removed]",
      "text/plain": [
       "<Figure size 432x288 with 1 Axes>"
      ]
     },
     "metadata": {},
     "output_type": "display_data"
    }
   ],
   "source": [
    "# Generate a pie plot showing the distribution of female versus male mice using pyplot\n",
    "labels = gender_data[\"Sex\"].value_counts().index.tolist()\n",
    "sizes = gender_data[\"Sex\"].value_counts().tolist()\n",
    "plt.pie(sizes, explode=explode, labels=labels,\n",
    "        autopct=\"%1.1f%%\", shadow=True, startangle=140)\n",
    "plt.title(\"Female versus male mice distribution\");"
   ]
  },
  {
   "cell_type": "markdown",
   "metadata": {},
   "source": [
    "## Quartiles, Outliers and Boxplots"
   ]
  },
  {
   "cell_type": "code",
   "execution_count": 19,
   "metadata": {},
   "outputs": [],
   "source": [
    "# Calculate the final tumor volume of each mouse across four of the treatment regimens:  \n",
    "# Capomulin, Ramicane, Infubinol, and Ceftamin\n",
    "\n",
    "# Start by getting the last (greatest) timepoint for each mouse\n",
    "tumor_data = clean_data.groupby(\"Mouse ID\")[\"Timepoint\"].max()\n",
    "\n",
    "# Merge this group df with the original dataframe to get the tumor volume at the last timepoint\n",
    "final_tumor_data = pd.merge(clean_data, tumor_data, how=\"right\", on=[\"Mouse ID\", \"Timepoint\"])"
   ]
  },
  {
   "cell_type": "code",
   "execution_count": 20,
   "metadata": {},
   "outputs": [
    {
     "name": "stdout",
     "output_type": "stream",
     "text": [
      "IQR data for Capomulin treatment\n",
      "===============================\n",
      "The lower quartile is: 32.38\n",
      "The upper quartile is: 40.16\n",
      "The interquartile range is: 7.78\n",
      "Values below 20.71 could be outliers.\n",
      "Values above 51.83 could be outliers.\n",
      "No outliers in this treatment\n",
      "\n",
      "\n",
      "IQR data for Ramicane treatment\n",
      "===============================\n",
      "The lower quartile is: 31.56\n",
      "The upper quartile is: 40.66\n",
      "The interquartile range is: 9.1\n",
      "Values below 17.91 could be outliers.\n",
      "Values above 54.31 could be outliers.\n",
      "No outliers in this treatment\n",
      "\n",
      "\n",
      "IQR data for Infubinol treatment\n",
      "===============================\n",
      "The lower quartile is: 54.05\n",
      "The upper quartile is: 65.53\n",
      "The interquartile range is: 11.48\n",
      "Values below 36.83 could be outliers.\n",
      "Values above 82.75 could be outliers.\n",
      "Outliers: [36.32]\n",
      "\n",
      "\n",
      "IQR data for Ceftamin treatment\n",
      "===============================\n",
      "The lower quartile is: 48.72\n",
      "The upper quartile is: 64.3\n",
      "The interquartile range is: 15.58\n",
      "Values below 25.35 could be outliers.\n",
      "Values above 87.67 could be outliers.\n",
      "No outliers in this treatment\n",
      "\n",
      "\n"
     ]
    }
   ],
   "source": [
    "# Put treatments into a list for for loop (and later for plot labels)\n",
    "treatments = [\"Capomulin\", \"Ramicane\", \"Infubinol\", \"Ceftamin\"]\n",
    "\n",
    "# Create empty list to fill with tumor vol data (for plotting)\n",
    "final_tmr_vol_list = []\n",
    "\n",
    "# Calculate the IQR and quantitatively determine if there are any potential outliers. \n",
    "for treatment in treatments:\n",
    "    \n",
    "    # Locate the rows which contain mice on each drug and get the tumor volumes\n",
    "    tmr_vol_list = final_tumor_data.loc[final_tumor_data[\"Drug Regimen\"] == treatment, \"Tumor Volume (mm3)\"]\n",
    "    final_tmr_vol_list.append(tmr_vol_list)\n",
    "\n",
    "    # add subset \n",
    "    quartiles = tmr_vol_list.quantile([.25,.5,.75])\n",
    "    lowerq = round(quartiles[0.25], 2)\n",
    "    upperq = round(quartiles[0.75], 2)\n",
    "    iqr = round(upperq-lowerq, 2)\n",
    "    \n",
    "    print(\"IQR data for \" + treatment + \" treatment\")\n",
    "    print(\"===============================\")\n",
    "    print(f\"The lower quartile is: {lowerq}\")\n",
    "    print(f\"The upper quartile is: {upperq}\")\n",
    "    print(f\"The interquartile range is: {iqr}\")\n",
    "\n",
    "    # Determine outliers using upper and lower bounds\n",
    "    lower_bound = round(lowerq - (1.5*iqr), 2)\n",
    "    upper_bound = round(upperq + (1.5*iqr), 2)\n",
    "    print(f\"Values below {lower_bound} could be outliers.\")\n",
    "    print(f\"Values above {upper_bound} could be outliers.\")\n",
    "\n",
    "    outlier = [round(tmr_vol, 2) for tmr_vol in tmr_vol_list if ((tmr_vol > upper_bound) or (tmr_vol < lower_bound))]\n",
    "    if outlier:\n",
    "        print(f\"Outliers: {outlier}\")\n",
    "    else:\n",
    "        print(\"No outliers in this treatment\")\n",
    "    print(\"\\n\")\n"
   ]
  },
  {
   "cell_type": "code",
   "execution_count": 22,
   "metadata": {},
   "outputs": [
    {
     "data": {
      "text/plain": [
       "Text(0.5, 1.0, 'Final tumor volume of mice across top 4 regimens')"
      ]
     },
     "execution_count": 22,
     "metadata": {},
     "output_type": "execute_result"
    },
    {
     "data": {
      "image/png": "[encoded data removed]",
      "text/plain": [
       "<Figure size 432x288 with 1 Axes>"
      ]
     },
     "metadata": {
      "needs_background": "light"
     },
     "output_type": "display_data"
    }
   ],
   "source": [
    "# Generate a box plot of the final tumor volume of each mouse across four regimens of interest\n",
    "red_diamond = dict(markerfacecolor='r', marker='D')\n",
    "plt.boxplot(final_tmr_vol_list,flierprops=red_diamond)\n",
    "plt.xticks([1,2,3,4],treatments);\n",
    "plt.xlabel(\"Top 4 Treatments\")\n",
    "plt.ylabel(\"Final Tumor Volume (mm3)\")\n",
    "plt.title(\"Final tumor volume of mice across top 4 regimens\")\n"
   ]
  },
  {
   "cell_type": "markdown",
   "metadata": {},
   "source": [
    "## Line and Scatter Plots"
   ]
  },
  {
   "cell_type": "code",
   "execution_count": 23,
   "metadata": {},
   "outputs": [
    {
     "data": {
      "text/plain": [
       "(-0.5, 46.0)"
      ]
     },
     "execution_count": 23,
     "metadata": {},
     "output_type": "execute_result"
    },
    {
     "data": {
      "image/png": "[encoded data removed]",
      "text/plain": [
       "<Figure size 432x288 with 1 Axes>"
      ]
     },
     "metadata": {
      "needs_background": "light"
     },
     "output_type": "display_data"
    }
   ],
   "source": [
    "# Generate a line plot of tumor volume vs. time point for a mouse treated with Capomulin\n",
    "mouse_capomulin = clean_data.loc[clean_data[\"Mouse ID\"] == \"s185\", [\"Timepoint\", \"Tumor Volume (mm3)\"]]\n",
    "mouse_capomulin.plot.line(x=\"Timepoint\", y=\"Tumor Volume (mm3)\")\n",
    "plt.title(\"Tumor volume vs timepoint for mouse ID 's185' under Capomulin treatment\")\n",
    "plt.ylabel(\"Tumor Volume (mm3)\")\n",
    "plt.xlim(-.5,46)"
   ]
  },
  {
   "cell_type": "code",
   "execution_count": 24,
   "metadata": {},
   "outputs": [
    {
     "data": {
      "image/png": "[encoded data removed]",
      "text/plain": [
       "<Figure size 432x288 with 1 Axes>"
      ]
     },
     "metadata": {
      "needs_background": "light"
     },
     "output_type": "display_data"
    }
   ],
   "source": [
    "# Generate a scatter plot of average tumor volume vs. mouse weight for the Capomulin regimen\n",
    "grp_reg = clean_data.groupby([\"Drug Regimen\"]).get_group(\"Capomulin\").groupby(\"Mouse ID\").mean()\n",
    "grp_reg.plot.scatter(x=\"Weight (g)\", y=\"Tumor Volume (mm3)\")\n",
    "plt.title(\"Average tumor volume vs mouse weight for Capomulin regimen\");\n",
    "plt.xlabel(\"Mouse Weight (g)\")\n",
    "plt.ylabel(\"Average Tumor Volume (mm3)\");"
   ]
  },
  {
   "cell_type": "markdown",
   "metadata": {},
   "source": [
    "## Correlation and Regression"
   ]
  },
  {
   "cell_type": "code",
   "execution_count": 25,
   "metadata": {},
   "outputs": [
    {
     "name": "stdout",
     "output_type": "stream",
     "text": [
      "The correlation between mouse weight and tumor volume is 0.84\n"
     ]
    },
    {
     "data": {
      "image/png": "[encoded data removed]",
      "text/plain": [
       "<Figure size 432x288 with 1 Axes>"
      ]
     },
     "metadata": {
      "needs_background": "light"
     },
     "output_type": "display_data"
    }
   ],
   "source": [
    "# Calculate the correlation coefficient and linear regression model \n",
    "# for mouse weight and average tumor volume for the Capomulin regimen\n",
    "mouse_wt = grp_reg[\"Weight (g)\"]\n",
    "avg_tmr_vol = grp_reg[\"Tumor Volume (mm3)\"]\n",
    "\n",
    "# Finding correlation coefficient\n",
    "correlation = st.pearsonr(mouse_wt,avg_tmr_vol)\n",
    "print(f\"The correlation between mouse weight and tumor volume is {round(correlation[0],2)}\")\n",
    "\n",
    "plt.scatter(mouse_wt,avg_tmr_vol)\n",
    "plt.xlabel(\"Mouse Weight (g)\")\n",
    "plt.ylabel(\"Average Tumor Volume (mm3)\")\n",
    "plt.title(\"Average tumor volume vs mouse weight for Capomulin regimen\");\n",
    "\n",
    "# Finding linear regression equation and line to plot\n",
    "(slope, intercept, rvalue, pvalue, stderr) = st.linregress(mouse_wt, avg_tmr_vol)\n",
    "regress_values = mouse_wt * slope + intercept\n",
    "line_eq = \"y = \" + str(round(slope,2)) + \"x + \" + str(round(intercept,2))\n",
    "\n",
    "# Plotting regression line\n",
    "plt.plot(mouse_wt,regress_values,\"r-\")\n",
    "plt.annotate(line_eq,(6,2),fontsize=15,color=\"red\");"
   ]
  }
 ],
 "metadata": {
  "anaconda-cloud": {},
  "kernelspec": {
   "display_name": "Python [conda env:.conda-PythonData] *",
   "language": "python",
   "name": "conda-env-.conda-PythonData-py"
  },
  "language_info": {
   "codemirror_mode": {
    "name": "ipython",
    "version": 3
   },
   "file_extension": ".py",
   "mimetype": "text/x-python",
   "name": "python",
   "nbconvert_exporter": "python",
   "pygments_lexer": "ipython3",
   "version": "3.6.10"
  }
 },
 "nbformat": 4,
 "nbformat_minor": 4
}
